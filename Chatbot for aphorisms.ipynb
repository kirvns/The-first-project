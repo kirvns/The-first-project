{
 "cells": [
  {
   "cell_type": "code",
   "execution_count": 81,
   "id": "873e9319",
   "metadata": {},
   "outputs": [
    {
     "name": "stdout",
     "output_type": "stream",
     "text": [
      "Requirement already satisfied: scikit-learn in c:\\users\\79608\\appdata\\local\\programs\\python\\python310\\lib\\site-packages (1.0.2)"
     ]
    },
    {
     "name": "stderr",
     "output_type": "stream",
     "text": [
      "WARNING: You are using pip version 21.2.3; however, version 22.0.3 is available.[nltk_data] Downloading package punkt to\n",
      "[nltk_data]     C:\\Users\\79608\\AppData\\Roaming\\nltk_data...\n",
      "[nltk_data]   Package punkt is already up-to-date!\n",
      "[nltk_data] Downloading package stopwords to\n",
      "[nltk_data]     C:\\Users\\79608\\AppData\\Roaming\\nltk_data...\n",
      "[nltk_data]   Package stopwords is already up-to-date!\n",
      "\n",
      "You should consider upgrading via the 'C:\\Users\\79608\\AppData\\Local\\Programs\\Python\\Python310\\python.exe -m pip install --upgrade pip' command.\n"
     ]
    },
    {
     "data": {
      "text/plain": [
       "True"
      ]
     },
     "execution_count": 81,
     "metadata": {},
     "output_type": "execute_result"
    },
    {
     "name": "stdout",
     "output_type": "stream",
     "text": [
      "\n",
      "Requirement already satisfied: scipy>=1.1.0 in c:\\users\\79608\\appdata\\local\\programs\\python\\python310\\lib\\site-packages (from scikit-learn) (1.7.3)\n",
      "Requirement already satisfied: joblib>=0.11 in c:\\users\\79608\\appdata\\local\\programs\\python\\python310\\lib\\site-packages (from scikit-learn) (1.1.0)\n",
      "Requirement already satisfied: numpy>=1.14.6 in c:\\users\\79608\\appdata\\local\\programs\\python\\python310\\lib\\site-packages (from scikit-learn) (1.22.0)\n",
      "Requirement already satisfied: threadpoolctl>=2.0.0 in c:\\users\\79608\\appdata\\local\\programs\\python\\python310\\lib\\site-packages (from scikit-learn) (3.0.0)\n"
     ]
    }
   ],
   "source": [
    "# Необходимые библиотеки\n",
    "\n",
    "!pip3 -qq install nltk --progress-bar off\n",
    "!pip3 -qq install rusenttokenize --progress-bar off\n",
    "!pip3 -qq install pymorphy2 --progress-bar off\n",
    "!pip3 install -U scikit-learn --progress-bar off\n",
    "from nltk.corpus import stopwords\n",
    "from nltk import word_tokenize\n",
    "from rusenttokenize import ru_sent_tokenize\n",
    "from sklearn.feature_extraction.text import TfidfVectorizer\n",
    "from sklearn.metrics.pairwise import cosine_similarity\n",
    "import codecs \n",
    "import re\n",
    "import nltk\n",
    "import pymorphy2\n",
    "import string\n",
    "import random\n",
    "nltk.download('punkt')\n",
    "nltk.download('stopwords')"
   ]
  },
  {
   "cell_type": "code",
   "execution_count": 163,
   "id": "48f0fefd",
   "metadata": {
    "scrolled": true
   },
   "outputs": [
    {
     "name": "stdout",
     "output_type": "stream",
     "text": [
      "Привет! Я бот, который отвечает афоризмами великих мыслителей.\n",
      "О чём ты хочешь порассуждать? Сформулируй запрос, и я подберу для тебя афоризм :)\n",
      "\n",
      "Примеры запросов:\n",
      "\n",
      "Что такое добро?\n",
      "Прошлое и будущее\n",
      "О суете житейской\n",
      "Что такое истинная красота?\n",
      "Отлично! Посмотрим, что я нашёл: \u001b[1mИстинная красота и мудрость всегда в простоте.\u001b[0m\n",
      "Хочешь посмотреть ещё одно высказывание на эту тему?\n",
      "хочу\n",
      "\u001b[1mИстинные удовольствия невозможны без истинных потребностей.\u001b[0m \n",
      "Пожалуйста, сформулируй новый запрос.\n",
      "Пока!\n",
      "Приходи ещё!\n"
     ]
    }
   ],
   "source": [
    "# Структура чат-бота\n",
    "\n",
    "print('Привет! Я бот, который отвечает афоризмами великих мыслителей.\\nО чём ты хочешь порассуждать? Сформулируй запрос, и я подберу для тебя афоризм :)\\n\\nПримеры запросов:\\n\\nЧто такое добро?\\nПрошлое и будущее\\nО суете житейской', flush=True)\n",
    "while True: \n",
    "    question = input()\n",
    "    if get_intent(question) != 'bye':\n",
    "        answer = generate_response(question)\n",
    "        print(answer)\n",
    "        if answer in failure_phrase:\n",
    "            continue\n",
    "    else:\n",
    "        print(random.choice(bye_responses))\n",
    "        break\n",
    "    print('Хочешь посмотреть ещё одно высказывание на эту тему?', flush=True)\n",
    "    intention = input()\n",
    "    if get_intent(question) != 'bye':\n",
    "        answer = bot(intention)\n",
    "        if answer in yes_responses:\n",
    "            answer = generate_response_again(question)\n",
    "            print(answer,'\\nПожалуйста, сформулируй новый запрос.')\n",
    "        elif answer in no_responses:\n",
    "            print(random.choice(no_responses))\n",
    "    else:\n",
    "        print(random.choice(bye_responses))\n",
    "        break       "
   ]
  },
  {
   "cell_type": "code",
   "execution_count": 165,
   "id": "e46c50b2",
   "metadata": {},
   "outputs": [],
   "source": [
    "# Функция, возвращающая либо релевантный отклик, либо заглушку\n",
    "\n",
    "def bot(question):\n",
    "    intent = get_intent(question)\n",
    "    if intent:\n",
    "        answer = get_answer_by_intent(intent)\n",
    "        if answer:\n",
    "            return answer   \n",
    "    answer = get_failure_phrase()\n",
    "    return answer"
   ]
  },
  {
   "cell_type": "code",
   "execution_count": 170,
   "id": "81b9c6be",
   "metadata": {},
   "outputs": [],
   "source": [
    "# Словарь интентов с примерами реплик и откликами на них\n",
    "\n",
    "BOT_CONFIG = {\n",
    "    'intents': {\n",
    "        'hello': {\n",
    "            'examples': ['Привет', 'Добрый день', 'Здравствуйте'],\n",
    "            'responses': ['Привет-привет!', 'День добрый!', 'Приветствую!']\n",
    "        }, \n",
    "        'bye': {\n",
    "            'examples': ['Пока', 'До свидания', 'Счастливо', 'Всего доброго', 'Всего хорошего', 'До скорого', 'Увидимся'],\n",
    "            'responses': ['Ещё увидимся!', 'Если что, я тут', 'Приходи ещё!']\n",
    "        },\n",
    "        'yes': {\n",
    "            'examples': ['Да', 'Конечно', 'Давай', 'Хочу', 'Посмотрю', 'Согласен', 'С радостью', 'Очень', 'Можно', 'Хорошо', 'Буду рад'],\n",
    "            'responses': ['Хорошо, сейчас подберу ещё одно высказывание.', 'Хорошо, давай посмотрим.', 'Понял тебя. Немного подожди.']\n",
    "        },\n",
    "        'no': {\n",
    "            'examples': ['Нет', 'Не нужно', 'Не надо', 'Хочу другое', 'Хочу на другую тему', 'На другую', 'Другой афоризм'],\n",
    "            'responses': ['Понял тебя! Введи новый запрос, и я подыщу другой афоризм.\\nЕсли захочешь выйти, просто попрощайся :)', 'Хорошо, поищем другой афоризм. Пожалуйста, сформулируй новый запрос.\\nЕсли захочешь выйти, просто попрощайся :)', 'Я понял. Буду искать другой афоризм. Введи новый запрос.\\nЕсли захочешь выйти, просто попрощайся :)']\n",
    "        } \n",
    "        \n",
    "    },\n",
    "    \"failure_phrases\": [\n",
    "        'Пожалуйста, переформулируйте мысль',\n",
    "        'Попробуйте ещё раз', 'Не совсем вас понял'\n",
    "    ]\n",
    "}"
   ]
  },
  {
   "cell_type": "code",
   "execution_count": 74,
   "id": "a03ad322",
   "metadata": {},
   "outputs": [],
   "source": [
    "# Фильтрует пользовательский ввод\n",
    "\n",
    "def filter_text(text):\n",
    "    text = text.lower()\n",
    "    text = [c for c in text if c in 'абвгдеёжзийклмнопрстуфхцчшщъыьэюя- ']\n",
    "    text = ''.join(text)\n",
    "    return text\n",
    "\n",
    "# Возвращает интент с учётом исправления опечаток\n",
    "\n",
    "def get_intent(question):\n",
    "    for intent, intent_data in BOT_CONFIG['intents'].items():\n",
    "        for example in intent_data['examples']:\n",
    "            dist = nltk.edit_distance(filter_text(example), filter_text(question))\n",
    "            if dist / len(filter_text(example)) < 0.4:\n",
    "                return intent"
   ]
  },
  {
   "cell_type": "code",
   "execution_count": 76,
   "id": "6158cfe3",
   "metadata": {},
   "outputs": [],
   "source": [
    "# Возвращает рандомный отклик в пределах конкретного интента\n",
    "\n",
    "def get_answer_by_intent(intent):\n",
    "    if intent in BOT_CONFIG['intents']:\n",
    "        phrases = BOT_CONFIG['intents'][intent]['responses']\n",
    "        return random.choice(phrases)"
   ]
  },
  {
   "cell_type": "code",
   "execution_count": 75,
   "id": "d09524a2",
   "metadata": {},
   "outputs": [],
   "source": [
    "# Возвращает ответ на неудачный запрос\n",
    "\n",
    "def get_failure_phrase():\n",
    "    phrases = BOT_CONFIG['failure_phrases']\n",
    "    return random.choice(phrases)"
   ]
  },
  {
   "cell_type": "code",
   "execution_count": 88,
   "id": "9d7149ea",
   "metadata": {},
   "outputs": [],
   "source": [
    "# Адреса примеров и откликов для интентов\n",
    "\n",
    "bye_examples = BOT_CONFIG['intents']['bye']['examples']\n",
    "bye_responses = BOT_CONFIG['intents']['bye']['responses']\n",
    "yes_examples = BOT_CONFIG['intents']['yes']['examples']\n",
    "yes_responses = BOT_CONFIG['intents']['yes']['responses']\n",
    "no_examples = BOT_CONFIG['intents']['no']['examples']\n",
    "no_responses = BOT_CONFIG['intents']['no']['responses']\n",
    "failure_phrase = BOT_CONFIG['failure_phrases']"
   ]
  },
  {
   "cell_type": "code",
   "execution_count": 85,
   "id": "53f92865",
   "metadata": {},
   "outputs": [],
   "source": [
    "# Чтение файла \"Всемирная энциклопедия афоризмов\" Елены Агеевой\n",
    "\n",
    "with codecs.open('Ageeva_clean.txt', 'r', \"utf_8_sig\") as file:\n",
    "    aphorisms = file.read()\n",
    "# display(aphorisms)    "
   ]
  },
  {
   "cell_type": "code",
   "execution_count": 84,
   "id": "d4ddcb94",
   "metadata": {},
   "outputs": [],
   "source": [
    "# Очистка афоризмов от лишних символов и переносов\n",
    "\n",
    "aphorisms_clean = re.sub('\\xa0|[\\r\\n]+|//', ' ', aphorisms)\n",
    "# display(aphorisms_clean)\n",
    "\n",
    "# with codecs.open('Ageeva_cleaned.txt', 'w', \"utf_8_sig\") as file_cleaned:\n",
    "#     file_cleaned.write(aphorisms_clean)"
   ]
  },
  {
   "cell_type": "code",
   "execution_count": 87,
   "id": "2f50419a",
   "metadata": {},
   "outputs": [
    {
     "name": "stderr",
     "output_type": "stream",
     "text": [
      "WARNING:root:Something went wrong while tokenizing\n"
     ]
    }
   ],
   "source": [
    "# Токенизация афоризмов на предложения \n",
    "\n",
    "aphorisms_sentences = ru_sent_tokenize(aphorisms_clean)\n",
    "# display(aphorisms_sentences)\n",
    "# aphorisms_words = nltk.word_tokenize(aphorisms_clean)\n",
    "# display(aphorisms_words)"
   ]
  },
  {
   "cell_type": "code",
   "execution_count": 168,
   "id": "8896de40",
   "metadata": {},
   "outputs": [],
   "source": [
    "# Добавление некоторых слов в stopwords\n",
    "\n",
    "morph_analyzer = pymorphy2.MorphAnalyzer()\n",
    "russian_stopwords = stopwords.words('russian')\n",
    "russian_stopwords.extend(['почему', 'отчего', 'для чего', 'такое', 'такая', 'откуда'])\n",
    "# print(russian_stopwords)"
   ]
  },
  {
   "cell_type": "code",
   "execution_count": 140,
   "id": "3f414360",
   "metadata": {},
   "outputs": [],
   "source": [
    "# Предобработка текста\n",
    "\n",
    "def preprocess_tokenize(text):\n",
    "    \n",
    "    text_preprocessed_tokenized = []\n",
    "        \n",
    "    for sentence in ru_sent_tokenize(text):\n",
    "        \n",
    "        clean_words = [word.strip(string.punctuation) for word in word_tokenize(text)]\n",
    "        \n",
    "        clean_words = [word.lower() for word in clean_words if word not in russian_stopwords]\n",
    "        \n",
    "        clean_lemmas = [morph_analyzer.parse(word)[0].normal_form for word in clean_words]\n",
    "        \n",
    "        text_preprocessed_tokenized.extend(clean_lemmas)\n",
    "\n",
    "    return text_preprocessed_tokenized"
   ]
  },
  {
   "cell_type": "code",
   "execution_count": 90,
   "id": "65bec1d8",
   "metadata": {},
   "outputs": [],
   "source": [
    "# Функция возвращает наиболее похожий на пользовательский запрос афоризм \n",
    "\n",
    "def generate_response(user_input):\n",
    "    aphorisms_sentences.append(user_input)\n",
    "    bot_response = \"\"\n",
    "    \n",
    "    word_vectorizer = TfidfVectorizer(tokenizer=preprocess_tokenize)\n",
    "    all_words_vectors = word_vectorizer.fit_transform(aphorisms_sentences)\n",
    "    similar_vector_values = cosine_similarity(all_words_vectors[-1], all_words_vectors)\n",
    "    similar_sentence_number = similar_vector_values.argsort()[0][-2]\n",
    "    \n",
    "    matched_vector = similar_vector_values.flatten()\n",
    "    matched_vector.sort()\n",
    "    vector_matched = matched_vector[-2]\n",
    "    del aphorisms_sentences[-1]\n",
    "\n",
    "    if vector_matched == 0:\n",
    "        bot_response = bot_response + get_failure_phrase()\n",
    "        return bot_response\n",
    "    elif 0 < vector_matched <= 0.5:\n",
    "        bot_response = bot_response + random.choice(small_similarity) + '\\033[1m' + aphorisms_sentences[similar_sentence_number] + '\\033[0m'\n",
    "        return bot_response\n",
    "    else:\n",
    "        bot_response = bot_response + random.choice(big_similarity) + '\\033[1m' + aphorisms_sentences[similar_sentence_number] + '\\033[0m'\n",
    "        return bot_response "
   ]
  },
  {
   "cell_type": "code",
   "execution_count": 91,
   "id": "aeef96c9",
   "metadata": {},
   "outputs": [],
   "source": [
    "# Возвращает второй по похожести афоризм \n",
    "\n",
    "def generate_response_again(user_input):\n",
    "    aphorisms_sentences.append(user_input)\n",
    "    bot_response = \"\"\n",
    "    \n",
    "    word_vectorizer = TfidfVectorizer(tokenizer=preprocess_tokenize)\n",
    "    all_words_vectors = word_vectorizer.fit_transform(aphorisms_sentences)\n",
    "    similar_vector_values = cosine_similarity(all_words_vectors[-1], all_words_vectors)\n",
    "    similar_sentence_number = similar_vector_values.argsort()[0][-3]\n",
    "    \n",
    "    matched_vector = similar_vector_values.flatten()\n",
    "    matched_vector.sort()\n",
    "    vector_matched = matched_vector[-2]\n",
    "    del aphorisms_sentences[-1]\n",
    "\n",
    "    if vector_matched == 0:\n",
    "        bot_response = bot_response + get_failure_phrase()\n",
    "        return bot_response\n",
    "    else:\n",
    "        bot_response = bot_response + '\\033[1m' + aphorisms_sentences[similar_sentence_number] + '\\033[0m'\n",
    "        return bot_response"
   ]
  },
  {
   "cell_type": "code",
   "execution_count": 151,
   "id": "85d3819e",
   "metadata": {},
   "outputs": [],
   "source": [
    "# Имитация общения\n",
    "\n",
    "small_similarity = ['Кажется, я тебя понял.\\nНа этот счёт мудрые говорят: ', \n",
    "                    'Хм! Возможно, кое-что подойдет.\\n', \n",
    "                    'Вот что мне удалось найти: ']\n",
    "big_similarity = ['Отлично! Посмотрим, что я нашёл: ',\n",
    "                  'Превосходно! По этому поводу один философ сказал: ',\n",
    "                  'Великие умы рассуждают так: ',\n",
    "                  'Замечательно. Умудрённые жизнью говорят так: ',\n",
    "                  'Я понял! У меня есть для тебя кое-что: ']        "
   ]
  }
 ],
 "metadata": {
  "kernelspec": {
   "display_name": "Python 3 (ipykernel)",
   "language": "python",
   "name": "python3"
  },
  "language_info": {
   "codemirror_mode": {
    "name": "ipython",
    "version": 3
   },
   "file_extension": ".py",
   "mimetype": "text/x-python",
   "name": "python",
   "nbconvert_exporter": "python",
   "pygments_lexer": "ipython3",
   "version": "3.10.0"
  }
 },
 "nbformat": 4,
 "nbformat_minor": 5
}
